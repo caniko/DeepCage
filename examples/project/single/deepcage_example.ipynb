{
 "cells": [
  {
   "cell_type": "markdown",
   "metadata": {},
   "source": [
    "# DeepCage\n",
    "\n",
    "DeepCage is a python package that integrates surround video recording in a glass cage to the DeepLabCut 3D workflow.\n",
    "\n",
    "Install the package by running `pip install .` inside the root folder of this repository."
   ]
  },
  {
   "cell_type": "code",
   "execution_count": 1,
   "metadata": {},
   "outputs": [],
   "source": [
    "import matplotlib\n",
    "matplotlib.use('tkagg')"
   ]
  },
  {
   "cell_type": "code",
   "execution_count": 5,
   "metadata": {
    "scrolled": true
   },
   "outputs": [],
   "source": [
    "import deepcage"
   ]
  },
  {
   "cell_type": "markdown",
   "metadata": {},
   "source": [
    "## Create a DeepCage project\n",
    "\n",
    "Running the cell below initialises a project. The initialisation includes the creation of a project directory, and adding a `config.yaml` file to the root folder.\n",
    "\n",
    "The default location of the project is the respective curret directory of the prompt. A custom directory can be defined by assigning the path to the directory to `working_directory`.\n",
    "\n",
    "The config paths have been set to empty string for testing purposes."
   ]
  },
  {
   "cell_type": "code",
   "execution_count": 6,
   "metadata": {
    "scrolled": true
   },
   "outputs": [
    {
     "name": "stdout",
     "output_type": "stream",
     "text": [
      "Created \"C:\\Users\\Can\\Projects\\CINPLA\\DeepCage\\examples\\Test-Joe-2019-10-21\\labeled-data\"\n",
      "Created \"C:\\Users\\Can\\Projects\\CINPLA\\DeepCage\\examples\\Test-Joe-2019-10-21\\calibration-images\"\n",
      "Created \"C:\\Users\\Can\\Projects\\CINPLA\\DeepCage\\examples\\Test-Joe-2019-10-21\\analysis_results\"\n",
      "\n",
      "The project has been created, and is located at:\n",
      "C:\\Users\\Can\\Projects\\CINPLA\\DeepCage\\examples\\Test-Joe-2019-10-21\n"
     ]
    }
   ],
   "source": [
    "config_path = deepcage.auxiliary.create_dc_project(\n",
    "    project_name='Test',\n",
    "    experimenter='Joe',\n",
    "    dlc_project_config='',\n",
    "    dlc3d_project_configs={},\n",
    "    working_directory=None\n",
    ")"
   ]
  },
  {
   "cell_type": "markdown",
   "metadata": {},
   "source": [
    "## Label the calibration images\n",
    "\n",
    "The calbiration images need to be named \\<camera name\\>\\_\\<img_id\\>.png.\n",
    "\n",
    "The images that would be used for calibration would be moved to the `project_path / 'calibration-images'`. Logically, there can only be one image per camera name.\n",
    "\n",
    "Sample data for labeling can be retrieved from [this](https://drive.google.com/open?id=1sWghuBdx2ieMhlxxmpH6_xyV2vdQ5gku) google drive link."
   ]
  },
  {
   "cell_type": "code",
   "execution_count": 12,
   "metadata": {
    "scrolled": true
   },
   "outputs": [
    {
     "name": "stdout",
     "output_type": "stream",
     "text": [
      "EastNorth\n",
      "EastSouth\n",
      "NorthEast\n",
      "NorthWest\n",
      "SouthEast\n",
      "SouthWest\n",
      "WestNorth\n",
      "WestSouth\n"
     ]
    },
    {
     "data": {
      "text/plain": [
       "{'EastNorth': ({'negative': [[(120.52302605370073, 918.2730061349694)],\n",
       "    [(177.88897299019982, 922.5754521552069)]],\n",
       "   'positive': [[(1052.719663771811, 913.970560114732)],\n",
       "    [(992.485419488487, 916.8388574615569)]]},\n",
       "  [[(361.4600031869968, 954.1267229702814)],\n",
       "   [(407.35276073619616, 952.6925742968689)]],\n",
       "  [[(615.3043183810053, 452.1746872759144)],\n",
       "   [(609.5677236873555, 506.6723368655885)]]),\n",
       " 'EastSouth': ({'negative': [[(821.8217273524021, 939.7852362361566)],\n",
       "    [(880.6218229623137, 941.219384909569),\n",
       "     (880.6218229623137, 941.219384909569)]],\n",
       "   'positive': [[(1748.2817703768626, 941.219384909569)],\n",
       "    [(1695.2182694606006, 945.5218309298065)]]},\n",
       "  [[(1511.6472392638036, 989.9804398055933)],\n",
       "   [(1457.1495896741296, 982.8096964385309)]],\n",
       "  [[(1260.6712214166203, 477.98936339733893)],\n",
       "   [(1263.5395187634451, 532.487012987013)]]),\n",
       " 'NorthEast': ({'negative': [[(1688.0475260935384, 949.8242769500439)],\n",
       "    [(1629.2474304836267, 955.5608716436939)]],\n",
       "   'positive': [[(771.6265237829655, 982.8096964385309)],\n",
       "    [(824.690024699227, 982.8096964385309)]]},\n",
       "  [[(1442.8081029400048, 967.0340610309936)],\n",
       "   [(1396.9153453908054, 969.9023583778186)]],\n",
       "  [[(1186.0954903991712, 516.7113775794759)],\n",
       "   [(1191.8320850928214, 568.340729822325)]]),\n",
       " 'NorthWest': ({'negative': [[(1064.1928531591107, 988.5462911321808)],\n",
       "    [(1005.3927575491991, 988.5462911321808)]],\n",
       "   'positive': [[(130.56206676758802, 977.073101744881)],\n",
       "    [(195.09875707114952, 981.3755477651184)]]},\n",
       "  [[(375.80148992112163, 989.9804398055933)],\n",
       "   [(418.8259501234959, 987.1121424587683)]],\n",
       "  [[(636.8165484821925, 528.1845669667756)],\n",
       "   [(629.6458051151301, 578.3797705362124)]]),\n",
       " 'SouthEast': ({'negative': [[(212.30854115209922, 987.1121424587683)],\n",
       "    [(273.97693410883585, 991.4145884790057)]],\n",
       "   'positive': [[(1090.0075292805354, 1001.4536291928931)],\n",
       "    [(1034.0757310174488, 1001.4536291928931)]]},\n",
       "  [[(458.98211297904527, 1001.4536291928931)],\n",
       "   [(500.5724245080071, 1002.8877778663056)]],\n",
       "  [[(688.4459007250416, 564.0382838020876)],\n",
       "   [(682.7093060313919, 611.3651900246994)]]),\n",
       " 'SouthWest': ({'negative': [[(833.2949167397019, 984.2438451119433)],\n",
       "    [(886.3584176559636, 984.2438451119433)]],\n",
       "   'positive': [[(1729.6378376225005, 969.9023583778186)],\n",
       "    [(1673.7060393594136, 972.7706557246436)]]},\n",
       "  [[(1471.4910764082545, 991.4145884790057)],\n",
       "   [(1441.3739542665924, 991.4145884790057)]],\n",
       "  [[(1237.7248426420203, 536.7894590072506),\n",
       "    (1243.4614373356706, 556.8675404350251)],\n",
       "   [(1244.895586009083, 588.4188112500997)]]),\n",
       " 'WestNorth': ({'negative': [[(1778.3988925185242, 932.6144928690942)],\n",
       "    [(1726.7695402756751, 936.9169388893316)]],\n",
       "   'positive': [[(839.0315114333519, 939.7852362361566)],\n",
       "    [(896.3974583698509, 939.7852362361566)]]},\n",
       "  [[(1530.2911720181658, 952.6925742968689)],\n",
       "   [(1493.0033065094415, 949.8242769500439)]],\n",
       "  [[(1269.2761134570949, 477.98936339733893)],\n",
       "   [(1275.012708150745, 528.1845669667756)]]),\n",
       " 'WestSouth': ({'negative': [[(1095.7441239741852, 997.1511831726557)],\n",
       "    [(1042.6806230579236, 1000.0194805194806)]],\n",
       "   'positive': [[(167.84993227631253, 974.204804398056)],\n",
       "    [(216.61098717233676, 979.941399091706)]]},\n",
       "  [[(405.9186120627837, 995.7170344992433)],\n",
       "   [(454.67966695880796, 997.1511831726557)]],\n",
       "  [[(671.2361166440919, 526.7504182933632)],\n",
       "   [(664.0653732770295, 578.3797705362124)]])}"
      ]
     },
     "execution_count": 12,
     "metadata": {},
     "output_type": "execute_result"
    }
   ],
   "source": [
    "deepcage.auxiliary.basis_label(config_path)"
   ]
  },
  {
   "cell_type": "markdown",
   "metadata": {},
   "source": [
    "## Compute the linear map for changing the basis for each stereo camera\n",
    "-"
   ]
  },
  {
   "cell_type": "code",
   "execution_count": null,
   "metadata": {},
   "outputs": [],
   "source": [
    "basis = deepcage.compute.map_experiment(config_path)\n",
    "print(basis)"
   ]
  }
 ],
 "metadata": {
  "file_extension": ".py",
  "kernelspec": {
   "display_name": "Python 3",
   "language": "python",
   "name": "python3"
  },
  "language_info": {
   "codemirror_mode": {
    "name": "ipython",
    "version": 3
   },
   "file_extension": ".py",
   "mimetype": "text/x-python",
   "name": "python",
   "nbconvert_exporter": "python",
   "pygments_lexer": "ipython3",
   "version": "3.6.9"
  },
  "mimetype": "text/x-python",
  "name": "python",
  "npconvert_exporter": "python",
  "pygments_lexer": "ipython3",
  "version": 3
 },
 "nbformat": 4,
 "nbformat_minor": 2
}
