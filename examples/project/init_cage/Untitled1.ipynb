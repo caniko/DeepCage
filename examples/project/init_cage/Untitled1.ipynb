{
 "cells": [
  {
   "cell_type": "code",
   "execution_count": null,
   "metadata": {},
   "outputs": [],
   "source": [
    "from deepcage.compute import (\n",
    "    plot_3d_trajectories\n",
    ")\n",
    "from deepcage.auxiliary.detect import detect_triangulation_result\n",
    "from deeplabcut.pose_estimation_3d.plotting3D import plot2D\n",
    "\n",
    "from deepcage.project.get import get_labels, get_paired_labels, get_dlc3d_configs\n",
    "from deepcage.project.edit import read_config\n",
    "from deepcage.auxiliary.detect import detect_2d_coords\n",
    "from deepcage.auxiliary.constants import CAMERAS, PAIR_IDXS, pair_cycler\n",
    "\n",
    "from deepcage.compute.triangulate import triangulate_basis_labels, triangulate_raw_2d_camera_coords\n",
    "from deepcage.compute.basis import compute_basis_vectors, create_stereo_cam_origmap, map_experiment\n",
    "from deepcage.compute.utils import rad_to_deg, unit_vector\n",
    "\n",
    "import os\n",
    "import matplotlib.pylab as plt\n",
    "import numpy as np\n",
    "%matplotlib notebook"
   ]
  }
 ],
 "metadata": {
  "kernelspec": {
   "display_name": "Python [conda env:dlc] *",
   "language": "python",
   "name": "conda-env-dlc-py"
  },
  "language_info": {
   "codemirror_mode": {
    "name": "ipython",
    "version": 3
   },
   "file_extension": ".py",
   "mimetype": "text/x-python",
   "name": "python",
   "nbconvert_exporter": "python",
   "pygments_lexer": "ipython3",
   "version": "3.6.9"
  }
 },
 "nbformat": 4,
 "nbformat_minor": 2
}
