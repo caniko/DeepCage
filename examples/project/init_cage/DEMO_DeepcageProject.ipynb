{
 "cells": [
  {
   "cell_type": "markdown",
   "metadata": {},
   "source": [
    "# Create DeepCage project"
   ]
  },
  {
   "cell_type": "code",
   "execution_count": 1,
   "metadata": {},
   "outputs": [],
   "source": [
    "%load_ext autoreload\n",
    "%autoreload 2"
   ]
  },
  {
   "cell_type": "code",
   "execution_count": 2,
   "metadata": {},
   "outputs": [],
   "source": [
    "import matplotlib\n",
    "matplotlib.use('tkagg')"
   ]
  },
  {
   "cell_type": "code",
   "execution_count": 3,
   "metadata": {
    "scrolled": true
   },
   "outputs": [
    {
     "name": "stderr",
     "output_type": "stream",
     "text": [
      "C:\\Users\\Can\\Miniconda3\\envs\\dlc\\lib\\site-packages\\tensorflow\\python\\framework\\dtypes.py:526: FutureWarning: Passing (type, 1) or '1type' as a synonym of type is deprecated; in a future version of numpy, it will be understood as (type, (1,)) / '(1,)type'.\n",
      "  _np_qint8 = np.dtype([(\"qint8\", np.int8, 1)])\n",
      "C:\\Users\\Can\\Miniconda3\\envs\\dlc\\lib\\site-packages\\tensorflow\\python\\framework\\dtypes.py:527: FutureWarning: Passing (type, 1) or '1type' as a synonym of type is deprecated; in a future version of numpy, it will be understood as (type, (1,)) / '(1,)type'.\n",
      "  _np_quint8 = np.dtype([(\"quint8\", np.uint8, 1)])\n",
      "C:\\Users\\Can\\Miniconda3\\envs\\dlc\\lib\\site-packages\\tensorflow\\python\\framework\\dtypes.py:528: FutureWarning: Passing (type, 1) or '1type' as a synonym of type is deprecated; in a future version of numpy, it will be understood as (type, (1,)) / '(1,)type'.\n",
      "  _np_qint16 = np.dtype([(\"qint16\", np.int16, 1)])\n",
      "C:\\Users\\Can\\Miniconda3\\envs\\dlc\\lib\\site-packages\\tensorflow\\python\\framework\\dtypes.py:529: FutureWarning: Passing (type, 1) or '1type' as a synonym of type is deprecated; in a future version of numpy, it will be understood as (type, (1,)) / '(1,)type'.\n",
      "  _np_quint16 = np.dtype([(\"quint16\", np.uint16, 1)])\n",
      "C:\\Users\\Can\\Miniconda3\\envs\\dlc\\lib\\site-packages\\tensorflow\\python\\framework\\dtypes.py:530: FutureWarning: Passing (type, 1) or '1type' as a synonym of type is deprecated; in a future version of numpy, it will be understood as (type, (1,)) / '(1,)type'.\n",
      "  _np_qint32 = np.dtype([(\"qint32\", np.int32, 1)])\n",
      "C:\\Users\\Can\\Miniconda3\\envs\\dlc\\lib\\site-packages\\tensorflow\\python\\framework\\dtypes.py:535: FutureWarning: Passing (type, 1) or '1type' as a synonym of type is deprecated; in a future version of numpy, it will be understood as (type, (1,)) / '(1,)type'.\n",
      "  np_resource = np.dtype([(\"resource\", np.ubyte, 1)])\n"
     ]
    },
    {
     "ename": "ImportError",
     "evalue": "cannot import name 'initialise_prepare_projects'",
     "output_type": "error",
     "traceback": [
      "\u001b[1;31m---------------------------------------------------------------------------\u001b[0m",
      "\u001b[1;31mImportError\u001b[0m                               Traceback (most recent call last)",
      "\u001b[1;32m<ipython-input-3-1ee045e92e11>\u001b[0m in \u001b[0;36m<module>\u001b[1;34m\u001b[0m\n\u001b[1;32m----> 1\u001b[1;33m from deepcage.project import (\n\u001b[0m\u001b[0;32m      2\u001b[0m     \u001b[0minitialise_prepare_projects\u001b[0m\u001b[1;33m,\u001b[0m\u001b[1;33m\u001b[0m\u001b[1;33m\u001b[0m\u001b[0m\n\u001b[0;32m      3\u001b[0m     \u001b[0mcalibrate_dlc_cameras\u001b[0m\u001b[1;33m,\u001b[0m\u001b[1;33m\u001b[0m\u001b[1;33m\u001b[0m\u001b[0m\n\u001b[0;32m      4\u001b[0m     \u001b[0mtriangulate_bonvideos\u001b[0m\u001b[1;33m,\u001b[0m\u001b[1;33m\u001b[0m\u001b[1;33m\u001b[0m\u001b[0m\n\u001b[0;32m      5\u001b[0m     \u001b[0mcage_calibrate_triangulated\u001b[0m\u001b[1;33m\u001b[0m\u001b[1;33m\u001b[0m\u001b[0m\n",
      "\u001b[1;31mImportError\u001b[0m: cannot import name 'initialise_prepare_projects'"
     ]
    }
   ],
   "source": [
    "from deepcage.project import (\n",
    "    initialise_prepare_projects,\n",
    "    calibrate_dlc_cameras,\n",
    "    triangulate_bonvideos,\n",
    "    cage_calibrate_triangulated\n",
    ")\n",
    "from deepcage.auxiliary.gui import basis_label\n",
    "from deepcage.compute.test import visualize_basis_vectors"
   ]
  },
  {
   "cell_type": "code",
   "execution_count": null,
   "metadata": {},
   "outputs": [],
   "source": [
    "import os"
   ]
  },
  {
   "cell_type": "code",
   "execution_count": null,
   "metadata": {},
   "outputs": [],
   "source": [
    "project_name = 'DeepCage_MROS_V1'\n",
    "experimenter = 'Can'\n",
    "root = os.path.realpath('H:/Can_cage/DeepCage_DLC_files/DCage_1')\n",
    "dlc_config = os.path.join(root, 'DeepLabCut/DeepCage-Can-2019-10-26/config.yaml')\n",
    "\n",
    "calib_root = os.path.realpath('C:/Users/Can/Projects/CINPLA/Thesis_ReconstructCage/calibration/camera/BonRecordings')"
   ]
  },
  {
   "cell_type": "code",
   "execution_count": 6,
   "metadata": {},
   "outputs": [],
   "source": [
    "# config_path = initialise_prepare_projects(project_name, experimenter, root, dlc_config, calib_root, vid_format='avi')\n",
    "config_path = os.path.join(root, 'DeepCage_MROS_V1-Can-2019-10-30/config.yaml')"
   ]
  },
  {
   "cell_type": "code",
   "execution_count": null,
   "metadata": {},
   "outputs": [],
   "source": [
    "print(config_path)"
   ]
  },
  {
   "cell_type": "code",
   "execution_count": null,
   "metadata": {},
   "outputs": [],
   "source": [
    "calibrate_dlc_cameras(config_path, cbrow=9, cbcol=6, calibrate=False, alpha=0.9)"
   ]
  },
  {
   "cell_type": "markdown",
   "metadata": {},
   "source": [
    "### Triangulate using DLC 3D (run in ipython if using GPU)"
   ]
  },
  {
   "cell_type": "code",
   "execution_count": null,
   "metadata": {},
   "outputs": [],
   "source": [
    "BONSAI_VIDEO_ROOT = os.path.realpath('H:/Can_cage/BonsaiRecordings/MROS_V1')\n",
    "triangulate_bonvideos(config_path, video_root=BONSAI_VIDEO_ROOT, gputouse=0, vformat='avi')"
   ]
  },
  {
   "cell_type": "markdown",
   "metadata": {},
   "source": [
    "### Create linear map and origin vector for each stereo camera"
   ]
  },
  {
   "cell_type": "code",
   "execution_count": 7,
   "metadata": {},
   "outputs": [
    {
     "data": {
      "text/plain": [
       "{'NorthWest': ({'positive': (131.99621544100046, 981.3755477651184),\n",
       "   'negative': (1064.1928531591107, 988.5462911321808)},\n",
       "  (375.80148992112163, 994.2828858258307),\n",
       "  (636.8165484821925, 529.6187156401882),\n",
       "  (595.2262369532307, 987.1121424587683)),\n",
       " 'NorthEast': ({'positive': (773.0606724563779, 984.2438451119433),\n",
       "   'negative': (1689.4816747669508, 952.6925742968689)},\n",
       "  (1428.46661620588, 962.7316150107563),\n",
       "  (1186.0954903991712, 519.5796749263008),\n",
       "  (1242.0272886622581, 968.4682097044061)),\n",
       " 'EastNorth': ({'positive': (1052.719663771811, 915.4047087881445),\n",
       "   'negative': (121.95717472711317, 919.7071548083819)},\n",
       "  (361.4600031869968, 954.1267229702814),\n",
       "  (613.8701697075928, 453.6088359493268),\n",
       "  (582.3188988925183, 921.1413034817944)),\n",
       " 'EastSouth': ({'positive': (1748.2817703768626, 941.219384909569),\n",
       "   'negative': (821.8217273524021, 939.7852362361566)},\n",
       "  (1510.2130905903912, 988.5462911321808),\n",
       "  (1260.6712214166203, 479.4235120707515),\n",
       "  (1292.2224922316948, 944.087682256394)),\n",
       " 'SouthEast': ({'positive': (1087.1392319337103, 1002.8877778663056),\n",
       "   'negative': (219.47928451916164, 991.4145884790057)},\n",
       "  (461.85041032587037, 1001.4536291928931),\n",
       "  (685.5776033782167, 566.9065811489126),\n",
       "  (642.5531431758425, 1000.0194805194806)),\n",
       " 'SouthWest': ({'positive': (1728.2036889490876, 971.3365070512311),\n",
       "   'negative': (833.2949167397019, 984.2438451119433)},\n",
       "  (1468.6227790614296, 991.4145884790057),\n",
       "  (1236.290693968608, 536.7894590072506),\n",
       "  (1286.4858975380446, 978.5072504182934)),\n",
       " 'WestSouth': ({'positive': (167.84993227631253, 977.073101744881),\n",
       "   'negative': (1092.8758266273603, 1001.4536291928931)},\n",
       "  (410.22105808302103, 997.1511831726557),\n",
       "  (669.8019679706795, 529.6187156401882),\n",
       "  (615.3043183810053, 989.9804398055933)),\n",
       " 'WestNorth': ({'positive': (837.5973627599394, 941.219384909569),\n",
       "   'negative': (1778.3988925185242, 935.4827902159191)},\n",
       "  (1527.4228746713409, 954.1267229702814),\n",
       "  (1269.2761134570949, 482.29180941757636),\n",
       "  (1315.1688710062942, 941.219384909569))}"
      ]
     },
     "execution_count": 7,
     "metadata": {},
     "output_type": "execute_result"
    }
   ],
   "source": [
    "basis_label(config_path, image_paths=None)"
   ]
  },
  {
   "cell_type": "code",
   "execution_count": null,
   "metadata": {},
   "outputs": [],
   "source": [
    "cage_calibrate_triangulated(config_path)"
   ]
  },
  {
   "cell_type": "code",
   "execution_count": null,
   "metadata": {
    "scrolled": true
   },
   "outputs": [],
   "source": [
    "visualize_basis_vectors(config_path)"
   ]
  },
  {
   "cell_type": "code",
   "execution_count": null,
   "metadata": {},
   "outputs": [],
   "source": []
  }
 ],
 "metadata": {
  "file_extension": ".py",
  "kernelspec": {
   "display_name": "Python 3",
   "language": "python",
   "name": "python3"
  },
  "language_info": {
   "codemirror_mode": {
    "name": "ipython",
    "version": 3
   },
   "file_extension": ".py",
   "mimetype": "text/x-python",
   "name": "python",
   "nbconvert_exporter": "python",
   "pygments_lexer": "ipython3",
   "version": "3.6.9"
  },
  "mimetype": "text/x-python",
  "name": "python",
  "npconvert_exporter": "python",
  "pygments_lexer": "ipython3",
  "version": 3
 },
 "nbformat": 4,
 "nbformat_minor": 2
}
