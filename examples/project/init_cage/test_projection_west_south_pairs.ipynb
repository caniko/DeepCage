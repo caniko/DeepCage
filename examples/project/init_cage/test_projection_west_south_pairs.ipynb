{
 "cells": [
  {
   "cell_type": "code",
   "execution_count": 1,
   "metadata": {},
   "outputs": [
    {
     "name": "stderr",
     "output_type": "stream",
     "text": [
      "C:\\Users\\Can\\Miniconda3\\envs\\dlc\\lib\\site-packages\\tensorflow\\python\\framework\\dtypes.py:526: FutureWarning: Passing (type, 1) or '1type' as a synonym of type is deprecated; in a future version of numpy, it will be understood as (type, (1,)) / '(1,)type'.\n",
      "  _np_qint8 = np.dtype([(\"qint8\", np.int8, 1)])\n",
      "C:\\Users\\Can\\Miniconda3\\envs\\dlc\\lib\\site-packages\\tensorflow\\python\\framework\\dtypes.py:527: FutureWarning: Passing (type, 1) or '1type' as a synonym of type is deprecated; in a future version of numpy, it will be understood as (type, (1,)) / '(1,)type'.\n",
      "  _np_quint8 = np.dtype([(\"quint8\", np.uint8, 1)])\n",
      "C:\\Users\\Can\\Miniconda3\\envs\\dlc\\lib\\site-packages\\tensorflow\\python\\framework\\dtypes.py:528: FutureWarning: Passing (type, 1) or '1type' as a synonym of type is deprecated; in a future version of numpy, it will be understood as (type, (1,)) / '(1,)type'.\n",
      "  _np_qint16 = np.dtype([(\"qint16\", np.int16, 1)])\n",
      "C:\\Users\\Can\\Miniconda3\\envs\\dlc\\lib\\site-packages\\tensorflow\\python\\framework\\dtypes.py:529: FutureWarning: Passing (type, 1) or '1type' as a synonym of type is deprecated; in a future version of numpy, it will be understood as (type, (1,)) / '(1,)type'.\n",
      "  _np_quint16 = np.dtype([(\"quint16\", np.uint16, 1)])\n",
      "C:\\Users\\Can\\Miniconda3\\envs\\dlc\\lib\\site-packages\\tensorflow\\python\\framework\\dtypes.py:530: FutureWarning: Passing (type, 1) or '1type' as a synonym of type is deprecated; in a future version of numpy, it will be understood as (type, (1,)) / '(1,)type'.\n",
      "  _np_qint32 = np.dtype([(\"qint32\", np.int32, 1)])\n",
      "C:\\Users\\Can\\Miniconda3\\envs\\dlc\\lib\\site-packages\\tensorflow\\python\\framework\\dtypes.py:535: FutureWarning: Passing (type, 1) or '1type' as a synonym of type is deprecated; in a future version of numpy, it will be understood as (type, (1,)) / '(1,)type'.\n",
      "  np_resource = np.dtype([(\"resource\", np.ubyte, 1)])\n"
     ]
    }
   ],
   "source": [
    "from deepcage.compute import (\n",
    "    plot_3d_trajectories\n",
    ")\n",
    "from deepcage.auxiliary.detect import detect_triangulation_result\n",
    "from deeplabcut.pose_estimation_3d.plotting3D import plot2D\n",
    "\n",
    "from deepcage.project.get import get_labels, get_paired_labels, get_dlc3d_configs\n",
    "from deepcage.project.edit import read_config\n",
    "from deepcage.auxiliary.detect import detect_2d_coords\n",
    "from deepcage.auxiliary.constants import CAMERAS, PAIR_IDXS, pair_cycler\n",
    "\n",
    "from deepcage.compute.triangulate import triangulate_basis_labels, triangulate_raw_2d_camera_coords\n",
    "from deepcage.compute.basis import compute_basis_vectors, create_stereo_cam_origmap, map_experiment\n",
    "from deepcage.compute.utils import rad_to_deg, unit_vector\n",
    "\n",
    "import os\n",
    "import matplotlib.pylab as plt\n",
    "import numpy as np\n",
    "%matplotlib notebook"
   ]
  },
  {
   "cell_type": "code",
   "execution_count": 21,
   "metadata": {
    "scrolled": true
   },
   "outputs": [
    {
     "name": "stdout",
     "output_type": "stream",
     "text": [
      "_DLC_3D.h5\n",
      "Triangulations files detected, and verified\n",
      "Proceeding to changing basis\n",
      "[[        nan         nan         nan]\n",
      " [        nan         nan         nan]\n",
      " [        nan         nan         nan]\n",
      " [        nan         nan         nan]\n",
      " [        nan         nan         nan]\n",
      " [        nan         nan         nan]\n",
      " [        nan         nan         nan]\n",
      " [        nan         nan         nan]\n",
      " [        nan         nan         nan]\n",
      " [        nan         nan         nan]\n",
      " [        nan         nan         nan]\n",
      " [        nan         nan         nan]\n",
      " [        nan         nan         nan]\n",
      " [        nan         nan         nan]\n",
      " [        nan         nan         nan]\n",
      " [ 0.04954836 -0.93275927 -0.35707857]\n",
      " [        nan         nan         nan]\n",
      " [ 0.04954836 -0.93275927 -0.35707857]\n",
      " [ 0.04954836 -0.93275927 -0.35707857]\n",
      " [ 0.04954836 -0.93275927 -0.35707857]]\n",
      "[[       nan        nan        nan]\n",
      " [       nan        nan        nan]\n",
      " [       nan        nan        nan]\n",
      " [       nan        nan        nan]\n",
      " [       nan        nan        nan]\n",
      " [       nan        nan        nan]\n",
      " [       nan        nan        nan]\n",
      " [       nan        nan        nan]\n",
      " [       nan        nan        nan]\n",
      " [       nan        nan        nan]\n",
      " [       nan        nan        nan]\n",
      " [       nan        nan        nan]\n",
      " [       nan        nan        nan]\n",
      " [       nan        nan        nan]\n",
      " [       nan        nan        nan]\n",
      " [0.30959888 0.59309236 0.80395657]\n",
      " [       nan        nan        nan]\n",
      " [0.30959888 0.59309236 0.80395657]\n",
      " [0.30959888 0.59309236 0.80395657]\n",
      " [0.30959888 0.59309236 0.80395657]]\n",
      "[[           nan            nan            nan]\n",
      " [           nan            nan            nan]\n",
      " [           nan            nan            nan]\n",
      " [           nan            nan            nan]\n",
      " [           nan            nan            nan]\n",
      " [           nan            nan            nan]\n",
      " [           nan            nan            nan]\n",
      " [           nan            nan            nan]\n",
      " [           nan            nan            nan]\n",
      " [           nan            nan            nan]\n",
      " [           nan            nan            nan]\n",
      " [           nan            nan            nan]\n",
      " [           nan            nan            nan]\n",
      " [           nan            nan            nan]\n",
      " [           nan            nan            nan]\n",
      " [6.95035224e+09 1.33146504e+10 1.80484549e+10]\n",
      " [           nan            nan            nan]\n",
      " [6.95035224e+09 1.33146504e+10 1.80484549e+10]\n",
      " [6.95035224e+09 1.33146505e+10 1.80484549e+10]\n",
      " [6.95035224e+09 1.33146505e+10 1.80484549e+10]]\n"
     ]
    },
    {
     "ename": "SystemExit",
     "evalue": "",
     "output_type": "error",
     "traceback": [
      "An exception has occurred, use %tb to see the full traceback.\n",
      "\u001b[1;31mSystemExit\u001b[0m\n"
     ]
    }
   ],
   "source": [
    "root = os.path.realpath('H:/Can_cage/DeepCage_DLC_files')\n",
    "config_path = os.path.join(root, 'DeepCageKeyTest-Can-2019-11-15/config.yaml')\n",
    "\n",
    "# plot_3d_trajectories(config_path, cm_is_real_idx=True, remap=False, cols=2)\n",
    "# dfs = detect_triangulation_result(config_path, change_basis=False)\n",
    "dfs = map_experiment(\n",
    "        config_path, suffix='_DLC_3D.h5', bonvideos=False, save=False,\n",
    "        new_orig_map=True, paralell=False, use_cross=False\n",
    "    )\n",
    "# level1 = dfs['level_1']"
   ]
  },
  {
   "cell_type": "code",
   "execution_count": 4,
   "metadata": {
    "scrolled": true
   },
   "outputs": [
    {
     "ename": "NameError",
     "evalue": "name 'level1' is not defined",
     "output_type": "error",
     "traceback": [
      "\u001b[1;31m---------------------------------------------------------------------------\u001b[0m",
      "\u001b[1;31mNameError\u001b[0m                                 Traceback (most recent call last)",
      "\u001b[1;32m<ipython-input-4-33bcb7f9d481>\u001b[0m in \u001b[0;36m<module>\u001b[1;34m\u001b[0m\n\u001b[1;32m----> 1\u001b[1;33m \u001b[0mtip_level1\u001b[0m \u001b[1;33m=\u001b[0m \u001b[1;33m{\u001b[0m\u001b[0mpair\u001b[0m\u001b[1;33m:\u001b[0m \u001b[0mdf\u001b[0m \u001b[1;32mfor\u001b[0m \u001b[0mpair\u001b[0m\u001b[1;33m,\u001b[0m \u001b[0mdf\u001b[0m \u001b[1;32min\u001b[0m \u001b[0mlevel1\u001b[0m\u001b[1;33m[\u001b[0m\u001b[1;34m'tip'\u001b[0m\u001b[1;33m]\u001b[0m\u001b[1;33m.\u001b[0m\u001b[0mgroupby\u001b[0m\u001b[1;33m(\u001b[0m\u001b[0mlevel\u001b[0m\u001b[1;33m=\u001b[0m\u001b[1;36m0\u001b[0m\u001b[1;33m,\u001b[0m \u001b[0maxis\u001b[0m\u001b[1;33m=\u001b[0m\u001b[1;36m1\u001b[0m\u001b[1;33m)\u001b[0m\u001b[1;33m}\u001b[0m\u001b[1;33m\u001b[0m\u001b[1;33m\u001b[0m\u001b[0m\n\u001b[0m\u001b[0;32m      2\u001b[0m \u001b[0mturn_level1\u001b[0m \u001b[1;33m=\u001b[0m \u001b[1;33m{\u001b[0m\u001b[0mpair\u001b[0m\u001b[1;33m:\u001b[0m \u001b[0mdf\u001b[0m \u001b[1;32mfor\u001b[0m \u001b[0mpair\u001b[0m\u001b[1;33m,\u001b[0m \u001b[0mdf\u001b[0m \u001b[1;32min\u001b[0m \u001b[0mlevel1\u001b[0m\u001b[1;33m[\u001b[0m\u001b[1;34m'turn'\u001b[0m\u001b[1;33m]\u001b[0m\u001b[1;33m.\u001b[0m\u001b[0mgroupby\u001b[0m\u001b[1;33m(\u001b[0m\u001b[0mlevel\u001b[0m\u001b[1;33m=\u001b[0m\u001b[1;36m0\u001b[0m\u001b[1;33m,\u001b[0m \u001b[0maxis\u001b[0m\u001b[1;33m=\u001b[0m\u001b[1;36m1\u001b[0m\u001b[1;33m)\u001b[0m\u001b[1;33m}\u001b[0m\u001b[1;33m\u001b[0m\u001b[1;33m\u001b[0m\u001b[0m\n",
      "\u001b[1;31mNameError\u001b[0m: name 'level1' is not defined"
     ]
    }
   ],
   "source": [
    "tip_level1 = {pair: df for pair, df in level1['tip'].groupby(level=0, axis=1)}\n",
    "turn_level1 = {pair: df for pair, df in level1['turn'].groupby(level=0, axis=1)}"
   ]
  },
  {
   "cell_type": "code",
   "execution_count": null,
   "metadata": {},
   "outputs": [],
   "source": [
    "tip_1 = tip_level1[pair_1].values\n",
    "turn_1 = turn_level1[pair_1].values\n",
    "tip_2 = tip_level1[pair_2].values\n",
    "turn_2 = turn_level1[pair_2].values"
   ]
  },
  {
   "cell_type": "code",
   "execution_count": 9,
   "metadata": {},
   "outputs": [],
   "source": [
    "dlc3d_cfgs = get_dlc3d_configs(config_path)\n",
    "basis_labels = get_labels(config_path)\n",
    "\n",
    "cfg = read_config(config_path)\n",
    "test_dir = os.path.join(cfg['data_path'], 'test')"
   ]
  },
  {
   "cell_type": "code",
   "execution_count": 10,
   "metadata": {},
   "outputs": [
    {
     "name": "stdout",
     "output_type": "stream",
     "text": [
      "Calculating the basis vectors of EastNorth EastSouth\n",
      "Attempting to fix coordinate-array by np.expand_dims(<array>, axis=1)\n"
     ]
    }
   ],
   "source": [
    "pair_1 = ('EastNorth', 'EastSouth')\n",
    "cam_labels_1 = get_paired_labels(config_path, pair_1)['normal']\n",
    "trian_dict_1, _ = triangulate_basis_labels(\n",
    "    dlc3d_cfgs[pair_1], cam_labels_1, pair_1, decrement=False, keys=True\n",
    ")"
   ]
  },
  {
   "cell_type": "code",
   "execution_count": 11,
   "metadata": {},
   "outputs": [
    {
     "name": "stdout",
     "output_type": "stream",
     "text": [
      "Calculating the basis vectors of SouthEast SouthWest\n",
      "Attempting to fix coordinate-array by np.expand_dims(<array>, axis=1)\n"
     ]
    }
   ],
   "source": [
    "pair_2 = ('SouthEast', 'SouthWest')\n",
    "cam_labels_2 = get_paired_labels(config_path, pair_2)['normal']\n",
    "trian_dict_2, _ = triangulate_basis_labels(\n",
    "    dlc3d_cfgs[pair_2], cam_labels_2, pair_2, decrement=False, keys=True\n",
    ")"
   ]
  },
  {
   "cell_type": "code",
   "execution_count": null,
   "metadata": {
    "scrolled": false
   },
   "outputs": [],
   "source": [
    "# fig_1 = plt.figure()\n",
    "# ax_1 = fig_1.add_subplot(111, projection='3d')\n",
    "\n",
    "# ax_1.plot(*tip_1.T, 'b')\n",
    "# ax_1.plot(*turn_1.T, 'm')\n",
    "\n",
    "# ax_1.scatter(*trian_dict_1['origin'], color='g')\n",
    "# ax_1.scatter(*trian_dict_1['z-axis'], color='r')\n",
    "# ax_1.scatter(*trian_dict_1[('x-axis', 'positive')], color='c')\n",
    "# ax_1.scatter(*trian_dict_1[('y-axis', 'negative')], color='b')\n",
    "# ax_1.scatter(*trian_dict_1[('y-axis', 'positive')], color='m')\n",
    "\n",
    "# min_ = np.nanmin(tip_1)\n",
    "# max_ = np.nanmax(tip_1)\n",
    "\n",
    "# ax_1.set_xlim(min_, max_)\n",
    "# ax_1.set_ylim(min_, max_)\n",
    "# ax_1.set_zlim(min_, max_)"
   ]
  },
  {
   "cell_type": "code",
   "execution_count": null,
   "metadata": {
    "scrolled": false
   },
   "outputs": [],
   "source": [
    "# fig_2 = plt.figure()\n",
    "# ax_2 = fig_2.add_subplot(111, projection='3d')\n",
    "\n",
    "# ax_2.plot(*tip_2.T, 'y')\n",
    "# ax_2.plot(*turn_2.T, 'r')\n",
    "\n",
    "# ax_2.scatter(*trian_dict_2['origin'], color='0.05')\n",
    "# ax_2.scatter(*trian_dict_2['z-axis'], color='0.1')\n",
    "# ax_2.scatter(*trian_dict_2[('y-axis', 'negative')], color='0.15')\n",
    "# ax_2.scatter(*trian_dict_2[('x-axis', 'positive')], color='0.15')\n",
    "# ax_2.scatter(*trian_dict_2[('x-axis', 'negative')], color='0.2')\n",
    "\n"
   ]
  },
  {
   "cell_type": "code",
   "execution_count": null,
   "metadata": {
    "scrolled": false
   },
   "outputs": [],
   "source": [
    "fig_all = plt.figure()\n",
    "ax_all = fig_all.add_subplot(111, projection='3d')\n",
    "\n",
    "ax_all.plot(*tip_1.T, 'b')\n",
    "ax_all.plot(*turn_1.T, 'm')\n",
    "# ax_all.plot(*tip_2.T, 'y')\n",
    "# ax_all.plot(*turn_2.T, 'r')\n",
    "\n",
    "min_ = np.nanmin(tip_1)\n",
    "max_ = np.nanmax(tip_1)\n",
    "\n",
    "ax_all.set_xlim(min_, max_)\n",
    "ax_all.set_ylim(min_, max_)\n",
    "ax_all.set_zlim(min_, max_)"
   ]
  },
  {
   "cell_type": "code",
   "execution_count": null,
   "metadata": {},
   "outputs": [],
   "source": [
    "import pandas as pd"
   ]
  },
  {
   "cell_type": "code",
   "execution_count": null,
   "metadata": {},
   "outputs": [],
   "source": [
    "pd.DataFrame(tip_1).loc[np.logical_not(np.all(np.isnan(tip_1), axis=1))]"
   ]
  },
  {
   "cell_type": "code",
   "execution_count": null,
   "metadata": {
    "scrolled": true
   },
   "outputs": [],
   "source": [
    "a = detect_2d_coords(config_path)"
   ]
  },
  {
   "cell_type": "code",
   "execution_count": null,
   "metadata": {},
   "outputs": [],
   "source": [
    "trian_dict_2, _ = triangulate_basis_labels(\n",
    "    dlc3d_cfgs[pair_2], cam_labels_2, pair_2, decrement=False, keys=True\n",
    ")"
   ]
  },
  {
   "cell_type": "code",
   "execution_count": null,
   "metadata": {},
   "outputs": [],
   "source": [
    "origin_2 = trian_dict_2[('x-axis', 'negative')] + (trian_dict_2[('x-axis', 'positive')] - trian_dict_2[('x-axis', 'negative')]) / 2"
   ]
  },
  {
   "cell_type": "code",
   "execution_count": null,
   "metadata": {},
   "outputs": [],
   "source": [
    "x = trian_dict_2[('x-axis', 'positive')] - origin_2\n",
    "z = trian_dict_2['z-axis'] - origin"
   ]
  },
  {
   "cell_type": "code",
   "execution_count": null,
   "metadata": {},
   "outputs": [],
   "source": [
    "x_n = unit_vector(x)\n",
    "z_n = unit_vector(z)\n",
    "y_n = np.cross(z_n, x_n)"
   ]
  },
  {
   "cell_type": "code",
   "execution_count": null,
   "metadata": {},
   "outputs": [],
   "source": [
    "axis_len = np.mean((norm(x), norm(z)))"
   ]
  },
  {
   "cell_type": "code",
   "execution_count": null,
   "metadata": {},
   "outputs": [],
   "source": [
    "dfs = detect_triangulation_result(config_path, change_basis=False)\n",
    "tip = dfs['level_1'][pair_2]['tip']"
   ]
  },
  {
   "cell_type": "code",
   "execution_count": null,
   "metadata": {},
   "outputs": [],
   "source": [
    "tip_o = tip - origin"
   ]
  },
  {
   "cell_type": "code",
   "execution_count": null,
   "metadata": {},
   "outputs": [],
   "source": [
    "tip_x = [np.dot(t, x_n) for t in tip_o]"
   ]
  },
  {
   "cell_type": "code",
   "execution_count": null,
   "metadata": {},
   "outputs": [],
   "source": [
    "tip_y = [np.dot(t, y_n) for t in tip_o]\n",
    "tip_z = [np.dot(t, z_n) for t in tip_o]"
   ]
  },
  {
   "cell_type": "code",
   "execution_count": null,
   "metadata": {},
   "outputs": [],
   "source": [
    "SCALE = 4.7\n",
    "tip_xs = (tip_x / axis_len) * SCALE\n",
    "tip_ys = (tip_y / axis_len) * SCALE\n",
    "tip_zs = (tip_z / axis_len) * SCALE"
   ]
  },
  {
   "cell_type": "code",
   "execution_count": null,
   "metadata": {},
   "outputs": [],
   "source": [
    "tip_s = np.array([tip_xs, tip_ys, tip_zs]).T"
   ]
  },
  {
   "cell_type": "code",
   "execution_count": null,
   "metadata": {},
   "outputs": [],
   "source": [
    "o_map = np.array([x_n, y_n, z_n]).T"
   ]
  },
  {
   "cell_type": "code",
   "execution_count": 12,
   "metadata": {},
   "outputs": [],
   "source": [
    "ee_origin = trian_dict_1[('y-axis', 'negative')] + (trian_dict_1[('y-axis', 'positive')] - trian_dict_1[('y-axis', 'negative')]) / 2"
   ]
  },
  {
   "cell_type": "code",
   "execution_count": 13,
   "metadata": {},
   "outputs": [],
   "source": [
    "ee_y = trian_dict_1[('y-axis', 'positive')] - ee_origin\n",
    "ee_z = trian_dict_1['z-axis'] - ee_origin"
   ]
  },
  {
   "cell_type": "code",
   "execution_count": 14,
   "metadata": {},
   "outputs": [
    {
     "name": "stdout",
     "output_type": "stream",
     "text": [
      "[-5.03633508e-13  2.07279286e-12  6.07882563e-12] [-2.59781942e-12 -1.42043558e-15 -1.64020460e-12] [ 5.65236482e-13 -4.78129876e-12 -2.37601748e-13]\n"
     ]
    }
   ],
   "source": [
    "print(ee_origin, ee_y, ee_z)"
   ]
  },
  {
   "cell_type": "code",
   "execution_count": 15,
   "metadata": {},
   "outputs": [],
   "source": [
    "y_n = unit_vector(ee_y)\n",
    "z_n = unit_vector(ee_z)\n",
    "x_n = np.cross(y_n, z_n)"
   ]
  },
  {
   "cell_type": "code",
   "execution_count": 16,
   "metadata": {},
   "outputs": [],
   "source": [
    "ee_map = np.array([x_n, y_n, z_n]).T"
   ]
  },
  {
   "cell_type": "code",
   "execution_count": 17,
   "metadata": {
    "scrolled": true
   },
   "outputs": [
    {
     "ename": "NameError",
     "evalue": "name 'dfs' is not defined",
     "output_type": "error",
     "traceback": [
      "\u001b[1;31m---------------------------------------------------------------------------\u001b[0m",
      "\u001b[1;31mNameError\u001b[0m                                 Traceback (most recent call last)",
      "\u001b[1;32m<ipython-input-17-d3e93b6d6ca2>\u001b[0m in \u001b[0;36m<module>\u001b[1;34m\u001b[0m\n\u001b[1;32m----> 1\u001b[1;33m \u001b[0mee_tip\u001b[0m \u001b[1;33m=\u001b[0m \u001b[0mdfs\u001b[0m\u001b[1;33m[\u001b[0m\u001b[1;34m'level_1'\u001b[0m\u001b[1;33m]\u001b[0m\u001b[1;33m[\u001b[0m\u001b[0mpair_1\u001b[0m\u001b[1;33m]\u001b[0m\u001b[1;33m[\u001b[0m\u001b[1;34m'tip'\u001b[0m\u001b[1;33m]\u001b[0m\u001b[1;33m\u001b[0m\u001b[1;33m\u001b[0m\u001b[0m\n\u001b[0m",
      "\u001b[1;31mNameError\u001b[0m: name 'dfs' is not defined"
     ]
    }
   ],
   "source": [
    "ee_tip = dfs['level_1'][pair_1]['tip']"
   ]
  },
  {
   "cell_type": "code",
   "execution_count": 18,
   "metadata": {
    "scrolled": true
   },
   "outputs": [
    {
     "ename": "NameError",
     "evalue": "name 'norm' is not defined",
     "output_type": "error",
     "traceback": [
      "\u001b[1;31m---------------------------------------------------------------------------\u001b[0m",
      "\u001b[1;31mNameError\u001b[0m                                 Traceback (most recent call last)",
      "\u001b[1;32m<ipython-input-18-cb5e670e8c97>\u001b[0m in \u001b[0;36m<module>\u001b[1;34m\u001b[0m\n\u001b[1;32m----> 1\u001b[1;33m \u001b[0maxis_len\u001b[0m \u001b[1;33m=\u001b[0m \u001b[0mnp\u001b[0m\u001b[1;33m.\u001b[0m\u001b[0mmean\u001b[0m\u001b[1;33m(\u001b[0m\u001b[1;33m(\u001b[0m\u001b[0mnorm\u001b[0m\u001b[1;33m(\u001b[0m\u001b[0mee_y\u001b[0m\u001b[1;33m)\u001b[0m\u001b[1;33m,\u001b[0m \u001b[0mnorm\u001b[0m\u001b[1;33m(\u001b[0m\u001b[0mee_z\u001b[0m\u001b[1;33m)\u001b[0m\u001b[1;33m)\u001b[0m\u001b[1;33m)\u001b[0m\u001b[1;33m\u001b[0m\u001b[1;33m\u001b[0m\u001b[0m\n\u001b[0m",
      "\u001b[1;31mNameError\u001b[0m: name 'norm' is not defined"
     ]
    }
   ],
   "source": [
    "axis_len = np.mean((norm(ee_y), norm(ee_z)))"
   ]
  },
  {
   "cell_type": "code",
   "execution_count": 19,
   "metadata": {},
   "outputs": [],
   "source": [
    "import pickle\n",
    "\n",
    "data_path = os.path.realpath(cfg['data_path'])\n",
    "basis_result_path = os.path.join(data_path, 'cb_result.pickle')\n",
    "try:\n",
    "    with open(basis_result_path, 'rb') as infile:\n",
    "        stereo_cam_units, orig_maps = pickle.load(infile)\n",
    "except FileNotFoundError:\n",
    "    msg = f'Could not detect results from deepcage.compute.generate_linear_map() in:\\n{basis_result_path}'\n",
    "    raise FileNotFoundError(msg)"
   ]
  },
  {
   "cell_type": "code",
   "execution_count": 20,
   "metadata": {},
   "outputs": [
    {
     "data": {
      "text/plain": [
       "array([[ 5.30904333e-01, -8.45565727e-01,  1.17257965e-01],\n",
       "       [ 1.04553063e-01, -4.62338388e-04, -9.91877529e-01],\n",
       "       [-8.40957339e-01, -5.33871133e-01, -4.92903385e-02]])"
      ]
     },
     "execution_count": 20,
     "metadata": {},
     "output_type": "execute_result"
    }
   ],
   "source": [
    "orig_maps[pair_1]['map']"
   ]
  },
  {
   "cell_type": "code",
   "execution_count": null,
   "metadata": {},
   "outputs": [],
   "source": [
    "ee_tip_maped = SCALE * ((tip_1 - ee_origin) @ orig_maps[pair_1]['map']) / axis_len\n",
    "ss_tip_maped = SCALE * ((tip_2 - origin_2) @ orig_maps[pair_2]['map']) / axis_len"
   ]
  },
  {
   "cell_type": "code",
   "execution_count": null,
   "metadata": {},
   "outputs": [],
   "source": [
    "ee_x, ee_y, ee_z = o_map.T\n",
    "\n",
    "fig_axis = plt.figure()\n",
    "ax_axis = fig_axis.add_subplot(111, projection='3d')\n",
    "\n",
    "ax_axis.plot(*(ee_tip_maped / np.nanmax(ee_tip_maped)).T, 'r')\n",
    "ax_axis.plot(*(ss_tip_maped / np.nanmax(ss_tip_maped)).T, 'b')"
   ]
  },
  {
   "cell_type": "code",
   "execution_count": null,
   "metadata": {},
   "outputs": [],
   "source": [
    "fig_ee = plt.figure()\n",
    "ax_xy = fig_ee.add_subplot(131)\n",
    "ax_yz = fig_ee.add_subplot(132)\n",
    "ax_xz = fig_ee.add_subplot(133)\n",
    "\n",
    "ax_xy.plot(ee_tip_maped[:, 0], ee_tip_maped[:, 1])\n",
    "ax_yz.plot(ee_tip_maped[:, 1], ee_tip_maped[:, 2])\n",
    "ax_xz.plot(ee_tip_maped[:, 0], ee_tip_maped[:, 2])"
   ]
  },
  {
   "cell_type": "code",
   "execution_count": null,
   "metadata": {},
   "outputs": [],
   "source": [
    "fig_ss = plt.figure()\n",
    "ax_xy = fig_ss.add_subplot(131)\n",
    "ax_yz = fig_ss.add_subplot(132)\n",
    "ax_xz = fig_ss.add_subplot(133)\n",
    "\n",
    "ax_xy.plot(tip_s[:, 0], tip_s[:, 1])\n",
    "ax_yz.plot(tip_s[:, 1], tip_s[:, 2])\n",
    "ax_xz.plot(tip_s[:, 0], tip_s[:, 2])"
   ]
  },
  {
   "cell_type": "code",
   "execution_count": null,
   "metadata": {
    "scrolled": true
   },
   "outputs": [],
   "source": [
    "ee_x, ee_y, ee_z = o_map.T\n",
    "\n",
    "fig_axis = plt.figure()\n",
    "ax_axis = fig_axis.add_subplot(111, projection='3d')\n",
    "\n",
    "reds = plt.cm.Reds(np.linspace(0.38, 0.62, 3))\n",
    "ax_axis.plot([0, x_n[0]], [0, x_n[1]], [0, x_n[2]], c=reds[0])\n",
    "ax_axis.plot([0, y_n[0]], [0, y_n[1]], [0, y_n[2]], c=reds[1])\n",
    "ax_axis.plot([0, z_n[0]], [0, z_n[1]], [0, z_n[2]], c=reds[2])\n",
    "\n",
    "blues = plt.cm.Blues(np.linspace(0.38, 0.62, 3))\n",
    "ax_axis.plot([0, ee_x[0]], [0, ee_x[1]], [0, ee_x[2]], c=blues[0])\n",
    "ax_axis.plot([0, ee_y[0]], [0, ee_y[1]], [0, ee_y[2]], c=blues[1])\n",
    "ax_axis.plot([0, ee_z[0]], [0, ee_z[1]], [0, ee_z[2]], c=blues[2])"
   ]
  },
  {
   "cell_type": "code",
   "execution_count": null,
   "metadata": {},
   "outputs": [],
   "source": []
  },
  {
   "cell_type": "code",
   "execution_count": null,
   "metadata": {},
   "outputs": [],
   "source": [
    "orig_maps[pair_1]['map']"
   ]
  },
  {
   "cell_type": "code",
   "execution_count": null,
   "metadata": {
    "scrolled": true
   },
   "outputs": [],
   "source": [
    "ee_map"
   ]
  },
  {
   "cell_type": "code",
   "execution_count": null,
   "metadata": {},
   "outputs": [],
   "source": [
    "# ee_tip_maped = SCALE * (ee_tip @ ee_map) / axis_len\n",
    "ee_tip_maped = SCALE * (ee_tip @ orig_maps[pair_1]['map']) / axis_len\n",
    "ss_tip_maped = SCALE * (dfs['level_1'][pair_2]['tip'] @ orig_maps[pair_2]['map']) / axis_len"
   ]
  },
  {
   "cell_type": "code",
   "execution_count": null,
   "metadata": {
    "scrolled": false
   },
   "outputs": [],
   "source": [
    "ee_x, ee_y, ee_z = o_map.T\n",
    "\n",
    "fig_axis = plt.figure()\n",
    "ax_axis = fig_axis.add_subplot(111, projection='3d')\n",
    "\n",
    "ax_axis.plot(*(10*tip_s / np.nanmax(tip_s)).T, 'r')\n",
    "ax_axis.plot(*(10*ee_tip_maped / np.nanmax(ee_tip_maped)).T, 'b')"
   ]
  },
  {
   "cell_type": "code",
   "execution_count": null,
   "metadata": {},
   "outputs": [],
   "source": [
    "10*ee_tip_maped / np.nanmax(ee_tip_maped)"
   ]
  },
  {
   "cell_type": "code",
   "execution_count": null,
   "metadata": {},
   "outputs": [],
   "source": [
    "10*tip_s / np.nanmax(tip_s)"
   ]
  },
  {
   "cell_type": "code",
   "execution_count": null,
   "metadata": {},
   "outputs": [],
   "source": []
  }
 ],
 "metadata": {
  "kernelspec": {
   "display_name": "Python [conda env:dlc] *",
   "language": "python",
   "name": "conda-env-dlc-py"
  },
  "language_info": {
   "codemirror_mode": {
    "name": "ipython",
    "version": 3
   },
   "file_extension": ".py",
   "mimetype": "text/x-python",
   "name": "python",
   "nbconvert_exporter": "python",
   "pygments_lexer": "ipython3",
   "version": "3.6.9"
  }
 },
 "nbformat": 4,
 "nbformat_minor": 2
}
