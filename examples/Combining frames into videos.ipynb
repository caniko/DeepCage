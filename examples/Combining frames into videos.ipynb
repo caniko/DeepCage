{
 "cells": [
  {
   "cell_type": "markdown",
   "metadata": {},
   "source": [
    "# Examplary workflow for combining frames into videos\n",
    "-"
   ]
  },
  {
   "cell_type": "code",
   "execution_count": 1,
   "metadata": {},
   "outputs": [],
   "source": [
    "import deepcage.plugins\n",
    "import numpy as np\n",
    "import os"
   ]
  },
  {
   "cell_type": "code",
   "execution_count": 2,
   "metadata": {},
   "outputs": [],
   "source": [
    "frames_dir = os.path.realpath('H:/Can_cage/MROS_V1')"
   ]
  },
  {
   "cell_type": "markdown",
   "metadata": {},
   "source": [
    "### Find frame indeces\n",
    "\n",
    "The following function finds frame pairs, and stores their indeces in dictionary->pickle, pandas hdf and xlsx. The files are stored in `frame_dir/DeepCage/<pair>/`"
   ]
  },
  {
   "cell_type": "code",
   "execution_count": 3,
   "metadata": {
    "scrolled": false
   },
   "outputs": [
    {
     "name": "stdout",
     "output_type": "stream",
     "text": [
      "Creating pairs for anime 0001 trial 5, date: 161019\n"
     ]
    },
    {
     "name": "stderr",
     "output_type": "stream",
     "text": [
      "C:\\Users\\Can\\Miniconda3\\envs\\cinpla\\lib\\site-packages\\pandas\\io\\pytables.py:271: PerformanceWarning: \n",
      "your performance may suffer as PyTables will pickle object types that it cannot\n",
      "map directly to c-types [inferred_type->mixed,key->axis0_level0] [items->None]\n",
      "\n",
      "  f = lambda store: store.put(key, value, **kwargs)\n",
      "C:\\Users\\Can\\Miniconda3\\envs\\cinpla\\lib\\site-packages\\pandas\\io\\pytables.py:271: PerformanceWarning: \n",
      "your performance may suffer as PyTables will pickle object types that it cannot\n",
      "map directly to c-types [inferred_type->mixed,key->block0_items_level0] [items->None]\n",
      "\n",
      "  f = lambda store: store.put(key, value, **kwargs)\n"
     ]
    },
    {
     "name": "stdout",
     "output_type": "stream",
     "text": [
      "Creating pairs for anime 0001 trial 6, date: 161019\n",
      "Creating pairs for anime 0001 trial 7, date: 161019\n",
      "Creating pairs for anime 0001 trial 8, date: 161019\n",
      "FPS: [5.2, 5.2, 5.0, 5.0, 5.3, 5.3, 8.1, 8.1, 9.2, 9.2, 9.3, 9.3, 9.3, 9.3, 5.7, 5.7]\n",
      "Mean FPS: 7.1375\n"
     ]
    }
   ],
   "source": [
    "deepcage.plugins.stereocamera_frames(frames_dir, pair_tol=np.timedelta64(100, 'ms'))"
   ]
  },
  {
   "cell_type": "markdown",
   "metadata": {},
   "source": [
    "### Combine frames into videos\n",
    "\n",
    "The resulting video files are stored in `frame_dir/DeepCage/<pair>/`"
   ]
  },
  {
   "cell_type": "code",
   "execution_count": 4,
   "metadata": {},
   "outputs": [
    {
     "name": "stdout",
     "output_type": "stream",
     "text": [
      "True\n",
      "True\n",
      "True\n",
      "True\n",
      "True\n",
      "True\n",
      "True\n",
      "True\n",
      "True\n",
      "True\n",
      "True\n",
      "True\n",
      "True\n",
      "True\n",
      "True\n",
      "True\n"
     ]
    }
   ],
   "source": [
    "deepcage.plugins.create_videos(frames_dir, notebook=True)"
   ]
  },
  {
   "cell_type": "code",
   "execution_count": 5,
   "metadata": {},
   "outputs": [],
   "source": [
    "import pickle"
   ]
  },
  {
   "cell_type": "code",
   "execution_count": 6,
   "metadata": {},
   "outputs": [],
   "source": [
    "with open(os.path.realpath('H:/Can_cage/MROS_V1/DeepCage/stereocamera_frames.pickle'), 'rb') as infile:\n",
    "        paired_timing_idxs, fps = pickle.load(infile)"
   ]
  },
  {
   "cell_type": "code",
   "execution_count": 9,
   "metadata": {},
   "outputs": [
    {
     "ename": "NameError",
     "evalue": "name 'frame_root' is not defined",
     "output_type": "error",
     "traceback": [
      "\u001b[1;31m---------------------------------------------------------------------------\u001b[0m",
      "\u001b[1;31mNameError\u001b[0m                                 Traceback (most recent call last)",
      "\u001b[1;32m<ipython-input-9-7b909cfdf7b3>\u001b[0m in \u001b[0;36m<module>\u001b[1;34m\u001b[0m\n\u001b[0;32m      4\u001b[0m     \u001b[0manimal\u001b[0m\u001b[1;33m,\u001b[0m \u001b[0mdate\u001b[0m\u001b[1;33m,\u001b[0m \u001b[0mtrial\u001b[0m\u001b[1;33m,\u001b[0m \u001b[0mpair\u001b[0m \u001b[1;33m=\u001b[0m \u001b[0minfo\u001b[0m\u001b[1;33m\u001b[0m\u001b[1;33m\u001b[0m\u001b[0m\n\u001b[0;32m      5\u001b[0m     \u001b[0mset_name\u001b[0m \u001b[1;33m=\u001b[0m \u001b[1;34m'%s_%s_%s'\u001b[0m \u001b[1;33m%\u001b[0m \u001b[1;33m(\u001b[0m\u001b[0manimal\u001b[0m\u001b[1;33m,\u001b[0m \u001b[0mdate\u001b[0m\u001b[1;33m,\u001b[0m \u001b[0mtrial\u001b[0m\u001b[1;33m)\u001b[0m\u001b[1;33m\u001b[0m\u001b[1;33m\u001b[0m\u001b[0m\n\u001b[1;32m----> 6\u001b[1;33m     \u001b[0mvideo_dir\u001b[0m \u001b[1;33m=\u001b[0m \u001b[0mframe_root\u001b[0m \u001b[1;33m/\u001b[0m \u001b[0mset_name\u001b[0m \u001b[1;33m/\u001b[0m \u001b[1;34m'videos'\u001b[0m \u001b[1;33m/\u001b[0m \u001b[1;33m(\u001b[0m\u001b[1;34m'%s_%s'\u001b[0m \u001b[1;33m%\u001b[0m \u001b[0mpair\u001b[0m\u001b[1;33m)\u001b[0m\u001b[1;33m\u001b[0m\u001b[1;33m\u001b[0m\u001b[0m\n\u001b[0m\u001b[0;32m      7\u001b[0m     \u001b[1;32mif\u001b[0m \u001b[1;32mnot\u001b[0m \u001b[0mos\u001b[0m\u001b[1;33m.\u001b[0m\u001b[0mpath\u001b[0m\u001b[1;33m.\u001b[0m\u001b[0mexists\u001b[0m\u001b[1;33m(\u001b[0m\u001b[0mvideo_dir\u001b[0m\u001b[1;33m)\u001b[0m\u001b[1;33m:\u001b[0m\u001b[1;33m\u001b[0m\u001b[1;33m\u001b[0m\u001b[0m\n\u001b[0;32m      8\u001b[0m         \u001b[0mos\u001b[0m\u001b[1;33m.\u001b[0m\u001b[0mmakedirs\u001b[0m\u001b[1;33m(\u001b[0m\u001b[0mvideo_dir\u001b[0m\u001b[1;33m)\u001b[0m\u001b[1;33m\u001b[0m\u001b[1;33m\u001b[0m\u001b[0m\n",
      "\u001b[1;31mNameError\u001b[0m: name 'frame_root' is not defined"
     ]
    }
   ],
   "source": [
    "imgs = []\n",
    "save_paths = []\n",
    "for info, timings in paired_timing_idxs.items():\n",
    "    animal, date, trial, pair = info\n",
    "    set_name = '%s_%s_%s' % (animal, date, trial)\n",
    "    video_dir = frame_root / set_name / 'videos' / ('%s_%s' % pair)\n",
    "    if not os.path.exists(video_dir):\n",
    "        os.makedirs(video_dir)\n",
    "\n",
    "    for i in range(len(pair)):\n",
    "        cam = pair[i]\n",
    "        img_path = glob(os.path.realpath(bon_projects[(animal, date, trial)] / ('*_%s' % cam)))[0]\n",
    "\n",
    "        all_imgs = glob(os.path.join(img_path, '*.png'))\n",
    "\n",
    "        this_imgs = []\n",
    "        for fi in np.nditer(timings.T[i]):\n",
    "            this_imgs.append(os.path.abspath(all_imgs[int(fi)]))\n",
    "        imgs.append(this_imgs)\n",
    "\n",
    "        # imgs.append( [ os.path.abspath(all_imgs[int(fi)]) for fi in np.nditer(timings.T[i]) ] )\n",
    "        save_paths.append( video_dir / ('%s_%d-%s.avi' % (set_name, i, cam)) )"
   ]
  },
  {
   "cell_type": "code",
   "execution_count": null,
   "metadata": {},
   "outputs": [],
   "source": []
  }
 ],
 "metadata": {
  "kernelspec": {
   "display_name": "Python 3",
   "language": "python",
   "name": "python3"
  },
  "language_info": {
   "codemirror_mode": {
    "name": "ipython",
    "version": 3
   },
   "file_extension": ".py",
   "mimetype": "text/x-python",
   "name": "python",
   "nbconvert_exporter": "python",
   "pygments_lexer": "ipython3",
   "version": "3.6.9"
  }
 },
 "nbformat": 4,
 "nbformat_minor": 2
}
